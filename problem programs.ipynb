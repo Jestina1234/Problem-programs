{
 "cells": [
  {
   "cell_type": "code",
   "execution_count": 1,
   "id": "a31963a5-b033-47e3-bd01-8a503218fe54",
   "metadata": {},
   "outputs": [
    {
     "name": "stdout",
     "output_type": "stream",
     "text": [
      "The average yield: 4.88\n",
      "Highest yield: 6.2 in year 10\n",
      "Lowest yield: 3.5 in year 1\n",
      "years with yield above 5.0 tonnes: 5\n"
     ]
    }
   ],
   "source": [
    "yield_data=[3.5, 4.2, 3.9, 4.5, 5.1, 4.8, 5.5, 5.3, 5.8, 6.2]\n",
    "avg=sum(yield_data)/len(yield_data)\n",
    "print(\"The average yield:\",avg)   #finds average of yield data\n",
    "\n",
    "max_yield=max(yield_data)\n",
    "min_yield=min(yield_data)\n",
    "max_year=yield_data.index(max_yield)+1\n",
    "min_year=yield_data.index(min_yield)+1\n",
    "print(\"Highest yield:\",max_yield,\"in year\",max_year)  #obtains the highest yield in the list\n",
    "print(\"Lowest yield:\",min_yield,\"in year\",min_year)    #obtains the minimum yield in the list\n",
    "\n",
    "count_above=sum(1 for y in yield_data if y>5.0)\n",
    "print (\"years with yield above 5.0 tonnes:\",count_above) #obtains total number of years where the yield is above 5 tonnes"
   ]
  },
  {
   "cell_type": "code",
   "execution_count": 89,
   "id": "48cb65f9-231c-48b7-be43-da0f3d2d19d1",
   "metadata": {},
   "outputs": [
    {
     "name": "stdout",
     "output_type": "stream",
     "text": [
      "fertilizer costs per hectare: [180000, 225000, 150000, 270000, 195000]\n"
     ]
    }
   ],
   "source": [
    "rates=[120,150,100,180,130] # nitrogen fertilizer application rates (in kg/ha)\n",
    "cost_fertilizer=1500  #TZS per kg\n",
    "costs=[rate*cost_fertilizer for rate in rates]   #cost for each field\n",
    "\n",
    "print(\"fertilizer costs per hectare:\",costs)"
   ]
  },
  {
   "cell_type": "code",
   "execution_count": 95,
   "id": "1e133e1a-ade2-4ffc-8389-96771285beae",
   "metadata": {},
   "outputs": [
    {
     "name": "stdout",
     "output_type": "stream",
     "text": [
      "the total weekly rainfall:  28.4\n",
      "Days with no rain:  Day2,Day6\n"
     ]
    }
   ],
   "source": [
    "daily_rainfall=[10.2, 0.0, 5.5, 1.2, 8.0, 0.0, 3.5]\n",
    "total_weekly_rainfall=sum(daily_rainfall)   #sums the daily rainfall amounts\n",
    "print(\"the total weekly rainfall: \",total_weekly_rainfall)\n",
    "\n",
    "no_rain_days=[]\n",
    "for i in range(len(daily_rainfall)):\n",
    "    if daily_rainfall[i]==0:                   #for a character in list with value 0\n",
    "        no_rain_days.append(f\"Day{i+1}\")         \n",
    "print(\"Days with no rain: \",\",\".join(no_rain_days))"
   ]
  },
  {
   "cell_type": "code",
   "execution_count": 97,
   "id": "968ebec3-1ccf-4679-babe-7247edb778fb",
   "metadata": {},
   "outputs": [
    {
     "name": "stdout",
     "output_type": "stream",
     "text": [
      "average PH: 6.2700000000000005\n",
      "acidic locations: 3\n",
      "Categorized ph values:['neutral' 'neutral' 'acidic' 'neutral' 'acidic' 'neutral' 'neutral'\n",
      " 'acidic' 'neutral' 'alkaline']\n"
     ]
    }
   ],
   "source": [
    "import numpy as np\n",
    "ph_values = np.array([6.2, 6.5, 5.8, 7.1, 6.0, 5.5, 6.8, 6.3, 5.9, 6.6])\n",
    "average_ph=np.mean(ph_values)\n",
    "print(\"average PH:\",average_ph)\n",
    "\n",
    "acidic_count=np.sum(ph_values<6.0)\n",
    "print(\"acidic locations:\",acidic_count)\n",
    "\n",
    "categorized_ph=np.array([])     #empty numpy array\n",
    "for ph in ph_values:\n",
    "  if ph<6.0:\n",
    "    categorized_ph=np.append(categorized_ph,'acidic')\n",
    "  elif 6.0<=ph<=7.0:\n",
    "    categorized_ph=np.append(categorized_ph,'neutral')\n",
    "else:\n",
    "      categorized_ph=np.append(categorized_ph,'alkaline')\n",
    "print(f\"Categorized ph values:{categorized_ph}\")     #categorizes the PH values"
   ]
  },
  {
   "cell_type": "code",
   "execution_count": 99,
   "id": "3ac6eccb-c806-4693-9e3a-cb1e3324f077",
   "metadata": {},
   "outputs": [
    {
     "name": "stdout",
     "output_type": "stream",
     "text": [
      "total fuel cost:TZS 681800.0\n"
     ]
    }
   ],
   "source": [
    "fuel_log=[45.5, 52.0, 48.3, 42.1, 55.6]\n",
    "price_of_diesel=2800\n",
    "total_cost=sum(fuel_log)*price_of_diesel  #total fuel cost for the recorded period\n",
    "print(\"total fuel cost:TZS\",total_cost)"
   ]
  },
  {
   "cell_type": "code",
   "execution_count": 103,
   "id": "09f98cc1-d982-468d-b2f2-c09b67fbb657",
   "metadata": {},
   "outputs": [
    {
     "name": "stdin",
     "output_type": "stream",
     "text": [
      "Enter item name seed\n"
     ]
    },
    {
     "name": "stdout",
     "output_type": "stream",
     "text": [
      "the quantity of seed is:300\n"
     ]
    }
   ],
   "source": [
    "inventory={'tractor':5,'plough':5,'seed':300}   #dictionary for farm inventory\n",
    "def check_inventory(inventory, item_name):\n",
    "    return inventory.get(item_name,\"item not found\")\n",
    "item_name=input(\"Enter item name\")        #enter either tractor, plough or seed\n",
    "print(f\"the quantity of {item_name} is:{check_inventory(inventory, item_name)}\")"
   ]
  },
  {
   "cell_type": "code",
   "execution_count": 105,
   "id": "4da9c7c9-0845-4e81-82e7-9ccdc1a12350",
   "metadata": {},
   "outputs": [
    {
     "name": "stdin",
     "output_type": "stream",
     "text": [
      "Enter crop name :  Maize\n",
      "Enter nutrient:  N\n"
     ]
    },
    {
     "name": "stdout",
     "output_type": "stream",
     "text": [
      "The required amount of N for Maize is 120 kg/ha.\n"
     ]
    }
   ],
   "source": [
    "crop_nutrients = {'Maize': {'N': 120, 'P': 60, 'K': 60},'Rice': {'N': 100, 'P': 50, 'K': 50}}\n",
    "\n",
    "#user input\n",
    "crop = input(\"Enter crop name : \")    #Enter crop name found in dictionary\n",
    "nutrient = input(\"Enter nutrient: \")  #Enter nutrient name \n",
    "\n",
    "#logic to validate input and display\n",
    "if crop in crop_nutrients:\n",
    "    if nutrient in crop_nutrients[crop]:\n",
    "        print(f\"The required amount of {nutrient} for {crop} is {crop_nutrients[crop][nutrient]} kg/ha.\")\n",
    "    else:\n",
    "        print(f\"Nutrient '{nutrient}' not found for crop '{crop}'.\")\n",
    "else:\n",
    "    print(f\"Crop '{crop}' not found in the database.\")"
   ]
  },
  {
   "cell_type": "code",
   "execution_count": 107,
   "id": "6187376b-324e-485c-b720-ecae036099a9",
   "metadata": {},
   "outputs": [
    {
     "name": "stdout",
     "output_type": "stream",
     "text": [
      "Roundup\n",
      "Supergreen_G\n"
     ]
    }
   ],
   "source": [
    "pesticides = {\n",
    "    'Roundup': {'active_ingredient': 'Glyphosate', 'application_rate': '2 L/ha'},\n",
    "    'Supergreen_G': {'active_ingredient': 'Glyphosate', 'application_rate': '3 L/ha'},\n",
    "    'Imara': {'active_ingredient': 'Atrazine', 'application_rate': '4.5 L/ha'},\n",
    "    'Striker': {'active_ingredient': 'Paraquat', 'application_rate': '5 L/ha'}\n",
    "}\n",
    "for trade_name, details in pesticides.items():\n",
    "    if details['active_ingredient'] == 'Glyphosate': #checks for glyphosate in active ingredient detail\n",
    "        print(f\"{trade_name}\")  #returns the trade name of the pesticide"
   ]
  },
  {
   "cell_type": "code",
   "execution_count": 109,
   "id": "7579339f-9877-4a53-8988-b386577fac84",
   "metadata": {},
   "outputs": [
    {
     "name": "stdout",
     "output_type": "stream",
     "text": [
      "Average score for Shepherd Chambasi (AGE/D/2023/0001) is 80.33333333333333\n"
     ]
    }
   ],
   "source": [
    "students = {'AGE/D/2023/0001': {'name': 'Shepherd Chambasi','assignment_scores': [88, 75, 78]},\n",
    "            'AGE/D/2023/0002': {'name': 'Canaan Sabas','assignment_scores': [81, 90, 92]},\n",
    "            'AGE/D/2023/0003': {'name': 'Lamine Yamal','assignment_scores': [70, 80, 85]}}\n",
    "\n",
    "def calculate_average(reg_no):\n",
    "    if reg_no in students:    # Check if the registration number exists in the students dictionary\n",
    "        scores = students[reg_no]['assignment_scores']   # Retrieve the list of scores for the student\n",
    "        average = sum(scores) / len(scores)     # Calculate the average by dividing the sum of scores by the number of scores\n",
    "        print(f\"Average score for {students[reg_no]['name']} ({reg_no}) is {average:}\")\n",
    "    else:\n",
    "        print(f\"No student found with registration number {reg_no}.\")   # If the registration number is not found, print an error message\n",
    "        \n",
    "calculate_average('AGE/D/2023/0001')"
   ]
  },
  {
   "cell_type": "code",
   "execution_count": 111,
   "id": "77433bef-e827-494f-8f8c-051274a39a28",
   "metadata": {},
   "outputs": [
    {
     "name": "stdout",
     "output_type": "stream",
     "text": [
      "Total irrigation duration in the week: 315 minutes\n",
      "Total water consumed in the week: 6300 liters\n"
     ]
    }
   ],
   "source": [
    "irrigation_schedule = {'Monday': 35,'Tuesday': 40,'Wednesday': 25,'Thursday': 50,'Friday': 40,'Saturday': 80,'Sunday': 45}\n",
    "\n",
    "flow_rate = 20  # L/min\n",
    "total_minutes = sum(irrigation_schedule.values()) # Calculate total irrigation time in minutes by summing all values in the dictionary\n",
    "total_water_liters = total_minutes * flow_rate    # Calculate total water used in liters = total time * flow rate\n",
    "\n",
    "print(f\"Total irrigation duration in the week: {total_minutes} minutes\")\n",
    "print(f\"Total water consumed in the week: {total_water_liters} liters\")"
   ]
  },
  {
   "cell_type": "code",
   "execution_count": 1,
   "id": "40d06538-5f3e-484e-b8e0-cf2a32be0d3c",
   "metadata": {},
   "outputs": [
    {
     "name": "stdout",
     "output_type": "stream",
     "text": [
      "The Expected harvest date for maize is 2025-06-29\n"
     ]
    }
   ],
   "source": [
    "# Import necessary modules for handling dates and time intervals\n",
    "from datetime import datetime, timedelta\n",
    "\n",
    "# Define a Crop class to model crop details\n",
    "class Crop:\n",
    "    def __init__(self, name, planting_date, days_to_maturity):\n",
    "        self.name = name  # Name of the crop\n",
    "\n",
    "        # Convert the planting date string ('YYYY-MM-DD') to a datetime object\n",
    "        self.planting_date = datetime.strptime(planting_date, '%Y-%m-%d')\n",
    "\n",
    "        self.days_to_maturity = days_to_maturity  # Number of days from planting to maturity\n",
    "\n",
    "    # Method to calculate the expected harvest date\n",
    "    def calculate_harvest_date(self):\n",
    "        # Add days_to_maturity to the planting_date using timedelta\n",
    "        harvest_date = self.planting_date + timedelta(days=self.days_to_maturity)\n",
    "\n",
    "        # Return the harvest date formatted as a string ('YYYY-MM-DD')\n",
    "        return harvest_date.strftime('%Y-%m-%d')\n",
    "\n",
    "\n",
    "# Create an instance of the Crop class for maize\n",
    "maize = Crop(\"maize\", \"2025-03-01\", 120)\n",
    "\n",
    "# Print the expected harvest date for maize\n",
    "print(f\"The Expected harvest date for {maize.name} is {maize.calculate_harvest_date()}\")\n"
   ]
  },
  {
   "cell_type": "code",
   "execution_count": 27,
   "id": "e2d4f71a-5b3a-4a4a-b44a-957b60758553",
   "metadata": {},
   "outputs": [
    {
     "name": "stdout",
     "output_type": "stream",
     "text": [
      "Sample ID: S01, Fertility Status: High\n"
     ]
    }
   ],
   "source": [
    "# Define a class to represent a soil sample\n",
    "class SoilSample:\n",
    "    def __init__(self, sample_id, ph_level, organic_matter_content):\n",
    "        self.sample_id = sample_id\n",
    "        self.ph_level = ph_level\n",
    "        self.organic_matter_content = organic_matter_content\n",
    "\n",
    "# Method to determine the fertility status of the soil sample\n",
    "    def get_fertility_status(self):\n",
    "        ph_condition = 6.0 <= self.ph_level <= 7.0\n",
    "        organic_condition = self.organic_matter_content > 2.5\n",
    "\n",
    "# Evaluate the overall fertility status based on conditions\n",
    "        if ph_condition and organic_condition:\n",
    "            return \"High\"   # Both conditions are good\n",
    "        elif ph_condition or organic_condition:\n",
    "            return \"Medium\"  # Only one condition is good\n",
    "        else:\n",
    "            return \"Low\"   # Neither condition is good\n",
    "\n",
    "\n",
    "sample = SoilSample(\"S01\", 6.5, 3.0)\n",
    "print(f\"Sample ID: {sample.sample_id}, Fertility Status: {sample.get_fertility_status()}\")"
   ]
  },
  {
   "cell_type": "code",
   "execution_count": 113,
   "id": "d792d31f-7332-4faf-99dc-9444c4df3268",
   "metadata": {},
   "outputs": [
    {
     "name": "stdout",
     "output_type": "stream",
     "text": [
      "Model: Massey Ferguson 240\n",
      "Horsepower: 40\n",
      "Fuel Capacity: 35 litres\n"
     ]
    }
   ],
   "source": [
    "# Define a Tractor class to model basic tractor information\n",
    "class Tractor:\n",
    "    def __init__(self, model, horsepower, fuel_capacity):\n",
    "        self.model = model\n",
    "        self.horsepower = horsepower\n",
    "        self.fuel_capacity = fuel_capacity\n",
    "\n",
    " # Method to display the tractor's information\n",
    "    def display_info(self):\n",
    "        print(\"Model:\", self.model)\n",
    "        print(\"Horsepower:\", self.horsepower)\n",
    "        print(\"Fuel Capacity:\", self.fuel_capacity, \"litres\")\n",
    "\n",
    "tractor1 = Tractor(\"Massey Ferguson 240\", 40, 35)\n",
    "tractor1.display_info()  # Call the method to display tractor details\n"
   ]
  },
  {
   "cell_type": "code",
   "execution_count": 119,
   "id": "3ac85096-0dcc-46ac-84d2-5471b43ec9e0",
   "metadata": {},
   "outputs": [
    {
     "name": "stdout",
     "output_type": "stream",
     "text": [
      "Species: Cow, Age: 3 years, Purpose: Dairy\n",
      "Species: Chicken, Age: 1 years, Purpose: Eggs\n"
     ]
    }
   ],
   "source": [
    "# Define a class to represent a farm animal\n",
    "class FarmAnimal:\n",
    "    def __init__(self, species, age, purpose):\n",
    "        self.species = species\n",
    "        self.age = age\n",
    "        self.purpose = purpose\n",
    "\n",
    "    # Method to return the animal's details as a formatted string\n",
    "    def get_details(self):\n",
    "        return f\"Species: {self.species}, Age: {self.age} years, Purpose: {self.purpose}\"\n",
    "\n",
    "cow = FarmAnimal(\"Cow\", 3, \"Dairy\")\n",
    "chicken = FarmAnimal(\"Chicken\", 1, \"Eggs\")\n",
    "\n",
    "print(cow.get_details())\n",
    "print(chicken.get_details())"
   ]
  },
  {
   "cell_type": "code",
   "execution_count": 57,
   "id": "b4eb5b9c-4cb1-442b-b90a-71cc39e37fb3",
   "metadata": {},
   "outputs": [
    {
     "name": "stdout",
     "output_type": "stream",
     "text": [
      "Water pumped in 5 hours: 60.0 m³\n"
     ]
    }
   ],
   "source": [
    "# Define a class to represent an irrigation pump\n",
    "class IrrigationPump:\n",
    "    def __init__(self, pump_type, flow_rate):\n",
    "        self.pump_type = pump_type  # Initialize the type of pump                \n",
    "        self.flow_rate = flow_rate   #Set the flow rate in liters per minute(L/min)              \n",
    "\n",
    "    def calculate_water_pumped(self, hours):\n",
    "        total_liters = self.flow_rate * hours * 60  # Multiply flow rate by number of minutes in the given hours\n",
    "        total_cubic_meters = total_liters / 1000    # 1000 liters = 1 m³\n",
    "        return total_cubic_meters  # Return the result in cubic meters\n",
    "\n",
    "\n",
    "pump = IrrigationPump(\"Centrifugal\", 200)  # 200 liters per minute\n",
    "water_volume = pump.calculate_water_pumped(5)   # Calculate the volume of water pumped in 5 hours\n",
    "print(f\"Water pumped in 5 hours: {water_volume} m³\")\n"
   ]
  },
  {
   "cell_type": "code",
   "execution_count": 121,
   "id": "a159eb49-a48a-4c35-9f80-8e960834b361",
   "metadata": {},
   "outputs": [
    {
     "name": "stdout",
     "output_type": "stream",
     "text": [
      "New Holland Tractor - Horsepower: 150 HP\n",
      "Case IH Harvester - Cutting Width: 6.5 meters\n"
     ]
    }
   ],
   "source": [
    "# Define a base class to represent general farm equipment\n",
    "class FarmEquipment:\n",
    "    def __init__(self, name, purchase_price):\n",
    "        self.name = name     # Name of the equipment \n",
    "        self.purchase_price = purchase_price   # Purchase price of the equipment\n",
    "\n",
    "class Tractor(FarmEquipment):\n",
    "    def __init__(self, name, purchase_price, horsepower):\n",
    "        super().__init__(name, purchase_price)    # Call the constructor of the base class (FarmEquipment)\n",
    "        self.horsepower = horsepower      # Horsepower specific to tractors\n",
    "\n",
    "# Define a Harvester class that also inherits from FarmEquipment\n",
    "class Harvester(FarmEquipment):\n",
    "    def __init__(self, name, purchase_price, cutting_width):\n",
    "        super().__init__(name, purchase_price)    # Call the constructor of the base class\n",
    "        self.cutting_width = cutting_width        # Cutting width specific to harvesters (in meters)\n",
    "\n",
    "tractor = Tractor(\"New Holland Tractor\", 50000000, 150)     # Create a Tractor object with name, price, and horsepower\n",
    "harvester = Harvester(\"Case IH Harvester\", 1200000, 6.5)    # Create a Harvester object with name, price, and cutting width\n",
    "\n",
    "print(f\"{tractor.name} - Horsepower: {tractor.horsepower} HP\")               # Print out the details of the tractor\n",
    "print(f\"{harvester.name} - Cutting Width: {harvester.cutting_width} meters\")  # Print out the details of the harvester\n"
   ]
  },
  {
   "cell_type": "code",
   "execution_count": 65,
   "id": "424cbc69-e85f-4115-b257-2ea9baae947c",
   "metadata": {},
   "outputs": [
    {
     "name": "stdout",
     "output_type": "stream",
     "text": [
      "Cereal Crop - Grain Type: Wheat\n",
      "Plant the crop in well-prepared soil and ensure regular watering.\n",
      "Legume Crop - Nitrogen Fixing: True\n",
      "Plant the crop in well-prepared soil and ensure regular watering.\n"
     ]
    }
   ],
   "source": [
    "# Define a base class for a generic crop\n",
    "class Crop:\n",
    "    def planting_instructions(self):\n",
    "        # General planting instructions for any crop\n",
    "        print(\"Plant the crop in well-prepared soil and ensure regular watering.\")\n",
    "\n",
    "# Define a subclass for cereal crops that inherits from Crop\n",
    "class CerealCrop(Crop):\n",
    "    def __init__(self, grain_type):\n",
    "        self.grain_type = grain_type  # Store the type of grain\n",
    "\n",
    "# Define a subclass for legume crops that inherits from Crop\n",
    "class LegumeCrop(Crop):\n",
    "    def __init__(self, nitrogen_fixing):\n",
    "        self.nitrogen_fixing = nitrogen_fixing  # Indicates whether the crop fixes nitrogen in the soil (True/False)\n",
    "\n",
    "# Create an instance of CerealCrop with grain type \"Wheat\"\n",
    "wheat = CerealCrop(\"Wheat\")\n",
    "\n",
    "# Create an instance of LegumeCrop that performs nitrogen fixing\n",
    "beans = LegumeCrop(True)\n",
    "\n",
    "print(f\"Cereal Crop - Grain Type: {wheat.grain_type}\")\n",
    "wheat.planting_instructions()     # Call the inherited planting instructions method\n",
    "\n",
    "print(f\"Legume Crop - Nitrogen Fixing: {beans.nitrogen_fixing}\")\n",
    "beans.planting_instructions()   # Call the inherited planting instructions method\n"
   ]
  },
  {
   "cell_type": "code",
   "execution_count": 67,
   "id": "2e7c7bf3-5277-4c94-a130-7dbeef261896",
   "metadata": {},
   "outputs": [
    {
     "name": "stdout",
     "output_type": "stream",
     "text": [
      "Executing ploughing on Field A.\n",
      "Executing sowing on Field A.\n"
     ]
    }
   ],
   "source": [
    "# Import the abstract base class tools\n",
    "from abc import ABC, abstractmethod\n",
    "\n",
    "# Define an abstract base class representing a general farm task\n",
    "class FarmTask(ABC):\n",
    "    @abstractmethod\n",
    "    def execute(self):\n",
    "        pass    # Abstract method that must be implemented by subclasses\n",
    "\n",
    "# Define a concrete subclass for ploughing\n",
    "class PloughingTask(FarmTask):\n",
    "    def execute(self):\n",
    "        print(\"Executing ploughing on Field A.\")  # Implementation of the execute method for ploughing\n",
    "\n",
    "# Define a concrete subclass for sowing\n",
    "class SowingTask(FarmTask):\n",
    "    def execute(self):\n",
    "        print(\"Executing sowing on Field A.\")   # Implementation of the execute method for sowing\n",
    "\n",
    "plough = PloughingTask()  # Create an instance of PloughingTask# Execute the ploughing task# Execute the sowing task\n",
    "sow = SowingTask()  # Create an instance of SowingTask\n",
    "\n",
    "plough.execute()  # Execute the ploughing task\n",
    "sow.execute()    # Execute the sowing task\n"
   ]
  },
  {
   "cell_type": "code",
   "execution_count": 3,
   "id": "2e76f201-20a5-4fb6-8d7f-3e30b2bc8090",
   "metadata": {},
   "outputs": [
    {
     "name": "stdout",
     "output_type": "stream",
     "text": [
      "Soil moisture: 35.80%\n",
      "Air temperature: 31.58°C\n"
     ]
    }
   ],
   "source": [
    "# Import ABC tools for creating abstract classes and the random module for simulating sensor data\n",
    "from abc import ABC, abstractmethod\n",
    "import random\n",
    "\n",
    "# Define an abstract base class for agricultural sensors\n",
    "class AgriculturalSensor(ABC):\n",
    "    @abstractmethod\n",
    "    def read_data(self):\n",
    "        # Abstract method that must be implemented by any subclass\n",
    "        pass\n",
    "\n",
    "# Concrete class for a soil moisture sensor\n",
    "class SoilMoistureSensor(AgriculturalSensor):\n",
    "    def read_data(self):\n",
    "        moisture = random.uniform(10.0, 40.0)  # Simulate soil moisture reading between 10.0% and 40.0%\n",
    "        return f\"Soil moisture: {moisture:.2f}%\"\n",
    "\n",
    "# Concrete class for an air temperature sensor\n",
    "class AirTemperatureSensor(AgriculturalSensor):\n",
    "    def read_data(self):\n",
    "        temperature = random.uniform(15.0, 35.0)  # Simulate air temperature reading between 15.0°C and 35.0°C\n",
    "        return f\"Air temperature: {temperature:.2f}°C\"\n",
    "\n",
    "# Create instances of each sensor\n",
    "soil_sensor = SoilMoistureSensor()\n",
    "temp_sensor = AirTemperatureSensor()\n",
    "\n",
    "# Read and print simulated sensor data\n",
    "print(soil_sensor.read_data())\n",
    "print(temp_sensor.read_data())\n"
   ]
  },
  {
   "cell_type": "code",
   "execution_count": 9,
   "id": "b439b337-6cac-4520-a63d-c75a55a95f90",
   "metadata": {},
   "outputs": [
    {
     "name": "stdout",
     "output_type": "stream",
     "text": [
      "Cow feed required: 8.0 kg/day\n",
      "Chicken feed required: 0.2 kg/day\n"
     ]
    }
   ],
   "source": [
    "# Define a base class for livestock animals\n",
    "class Livestock:\n",
    "    def __init__(self, species, weight):\n",
    "        self.species = species # Species name\n",
    "        self.weight = weight  # Weight of the animal in kilograms\n",
    "\n",
    "# Define a subclass for cattle that inherits from Livestock\n",
    "class Cattle(Livestock):\n",
    "    def calculate_feed_ratio(self):\n",
    "        return self.weight * 0.02  # Cattle typically eat about 2% of their body weight daily \n",
    "\n",
    "# Define a subclass for poultry that inherits from Livestock\n",
    "class Poultry(Livestock):\n",
    "    def calculate_feed_ratio(self):\n",
    "        return self.weight * 0.05  # Poultry typically consume about 5% of their body weight daily\n",
    "\n",
    "# Create a Cattle object with species name \"Cow\" and weight 400 kg\n",
    "cow = Cattle(\"Cow\", 400)\n",
    "# Create a Poultry object with species name \"Chicken\" and weight 4 kg\n",
    "chicken = Poultry(\"Chicken\", 4)\n",
    "\n",
    "print(f\"{cow.species} feed required: {cow.calculate_feed_ratio()} kg/day\")\n",
    "print(f\"{chicken.species} feed required: {chicken.calculate_feed_ratio()} kg/day\")\n"
   ]
  },
  {
   "cell_type": "code",
   "execution_count": 11,
   "id": "580d1101-ee3c-448e-8b67-b40da62f1480",
   "metadata": {},
   "outputs": [
    {
     "name": "stdout",
     "output_type": "stream",
     "text": [
      "Tractor engine rumbles to life.\n",
      "Harvester engine whirs loudly.\n"
     ]
    }
   ],
   "source": [
    "# Base class representing a generic farm vehicle\n",
    "class FarmVehicle:\n",
    "    def start_engine(self):\n",
    "        print(\"Starting the engine...\")  # Generic engine start behavior\n",
    "\n",
    "# Subclass representing a Tractor, inheriting from FarmVehicle\n",
    "class Tractor(FarmVehicle):\n",
    "    def start_engine(self):\n",
    "        print(\"Tractor engine rumbles to life.\")   # Specific engine start behavior for a tractor\n",
    "\n",
    "# Subclass representing a Combine Harvester, inheriting from FarmVehicle\n",
    "class CombineHarvester(FarmVehicle):\n",
    "    def start_engine(self):\n",
    "        print(\"Harvester engine whirs loudly.\")  # Specific engine start behavior for a combine harvester\n",
    "\n",
    "# Create a list of farm vehicles \n",
    "vehicles = [Tractor(), CombineHarvester()]\n",
    "\n",
    "for vehicle in vehicles: # Loop through and call start_engine (polymorphism in action)\n",
    "    vehicle.start_engine()\n"
   ]
  },
  {
   "cell_type": "code",
   "execution_count": 79,
   "id": "86053982-4e00-4c85-b559-fb2bbf005ded",
   "metadata": {},
   "outputs": [
    {
     "name": "stdout",
     "output_type": "stream",
     "text": [
      "Cow is eating fresh grass and silage.\n",
      "Chicken is pecking at grains and corn.\n"
     ]
    }
   ],
   "source": [
    "# Base class representing general livestock\n",
    "class Livestock:\n",
    "    def feed(self):\n",
    "        print(\"This animal eats generic food.\")\n",
    "\n",
    "# Subclass representing a cow, inherits from Livestock\n",
    "class Cow(Livestock):\n",
    "    def feed(self):\n",
    "        print(\"Cow is eating fresh grass and silage.\")\n",
    "\n",
    "# Subclass representing a chicken, inherits from Livestock\n",
    "class Chicken(Livestock):\n",
    "    def feed(self):\n",
    "        print(\"Chicken is pecking at grains and corn.\")\n",
    "\n",
    "# Create a list of livestock animals\n",
    "animals = [Cow(), Chicken()]\n",
    "\n",
    "# Iterate over each animal and call its feed method\n",
    "# This demonstrates polymorphism\n",
    "for animal in animals:\n",
    "    animal.feed()\n"
   ]
  },
  {
   "cell_type": "code",
   "execution_count": 81,
   "id": "b7642b29-c6f3-408e-8236-a0f7c78c03e9",
   "metadata": {},
   "outputs": [
    {
     "name": "stdout",
     "output_type": "stream",
     "text": [
      "Requires high water volume.\n",
      "Is drought-resistant, requires minimal water.\n"
     ]
    }
   ],
   "source": [
    "# Base class representing a generic crop\n",
    "class Crop:\n",
    "    def get_water_needs(self):\n",
    "        return \"Requires regular watering.\"   # Default water requirement for a generic crop\n",
    "\n",
    "# Subclass representing sugarcane, overrides get_water_needs\n",
    "class Sugarcane(Crop):\n",
    "    def get_water_needs(self):\n",
    "        return \"Requires high water volume.\"  # Specific water requirement for sugarcane\n",
    "\n",
    "# Subclass representing sorghum, overrides get_water_needs\n",
    "class Sorghum(Crop):\n",
    "    def get_water_needs(self):\n",
    "        return \"Is drought-resistant, requires minimal water.\"   # Specific water requirement for sorghum\n",
    "\n",
    "# Create a list of crop objects (polymorphism in action)\n",
    "crops = [Sugarcane(), Sorghum()]\n",
    "\n",
    "# Loop through each crop and print its specific water needs\n",
    "for crop in crops:\n",
    "    print(crop.get_water_needs())\n"
   ]
  },
  {
   "cell_type": "code",
   "execution_count": 83,
   "id": "9333e505-ed35-4020-8209-4b91a62a0453",
   "metadata": {},
   "outputs": [
    {
     "name": "stdout",
     "output_type": "stream",
     "text": [
      "Checking impeller, cleaning filter, and lubricating shaft of Water Pump.\n",
      "Changing oil, checking fuel system, and testing voltage output of Generator.\n"
     ]
    }
   ],
   "source": [
    "# Base class representing a generic machine\n",
    "class Machine:\n",
    "    def perform_maintenance(self): # General maintenance method (can be overridden by subclasses)\n",
    "        print(\"Performing general machine maintenance.\")\n",
    "\n",
    "# Subclass representing a water pump, inherits from Machine\n",
    "class WaterPump(Machine):\n",
    "    def perform_maintenance(self): # Specific maintenance routine for water pumps\n",
    "        print(\"Checking impeller, cleaning filter, and lubricating shaft of Water Pump.\")\n",
    "\n",
    "# Subclass representing a generator, inherits from Machine\n",
    "class Generator(Machine):\n",
    "    def perform_maintenance(self): # Specific maintenance routine for generators\n",
    "        print(\"Changing oil, checking fuel system, and testing voltage output of Generator.\")\n",
    "\n",
    "# Function that accepts any machine and calls its maintenance method\n",
    "# This is where polymorphism is applied\n",
    "def service_machine(machine_object):\n",
    "    machine_object.perform_maintenance()\n",
    "\n",
    "pump = WaterPump()   # Create a WaterPump object\n",
    "gen = Generator()   # Create a Generator object\n",
    "\n",
    "# Service both machines using the same function (polymorphism in action)\n",
    "service_machine(pump)\n",
    "service_machine(gen)\n"
   ]
  },
  {
   "cell_type": "code",
   "execution_count": 85,
   "id": "5a8f6992-a2ca-4187-b5b0-c554620745e1",
   "metadata": {},
   "outputs": [
    {
     "name": "stdout",
     "output_type": "stream",
     "text": [
      "Harvest by picking fruits carefully.\n",
      "Harvest by digging up from the soil.\n"
     ]
    }
   ],
   "source": [
    "# Base class representing a generic plant\n",
    "class Plant:\n",
    "    def harvest(self):\n",
    "        print(\"Harvesting the plant...\")   # Default harvesting behavior\n",
    "\n",
    "# Subclass representing a fruit tree, inherits from Plant\n",
    "class FruitTree(Plant):\n",
    "    def harvest(self):\n",
    "        print(\"Harvest by picking fruits carefully.\") # Specific harvesting behavior for fruit trees\n",
    "\n",
    "# Subclass representing a root vegetable, inherits from Plant\n",
    "class RootVegetable(Plant):\n",
    "    def harvest(self):\n",
    "        print(\"Harvest by digging up from the soil.\") # Specific harvesting behavior for root vegetables\n",
    "\n",
    "# Create a list of different types of plants\n",
    "plants = [FruitTree(), RootVegetable()]\n",
    "\n",
    "# Loop through each plant and call its harvest method\n",
    "# This is polymorphism\n",
    "for plant in plants:\n",
    "    plant.harvest()\n"
   ]
  },
  {
   "cell_type": "code",
   "execution_count": 13,
   "id": "7196b876-5cdd-4d91-b891-426a857c6201",
   "metadata": {},
   "outputs": [
    {
     "name": "stdout",
     "output_type": "stream",
     "text": [
      "Total estimated yield: 25.0 tons\n"
     ]
    }
   ],
   "source": [
    "# Class representing a crop type with its yield per hectare\n",
    "class Crop:\n",
    "    def __init__(self, name, yield_per_hectare):\n",
    "        self.name = name\n",
    "        self.yield_per_hectare = yield_per_hectare  # tons per hectare\n",
    "\n",
    "    # Calculate estimated yield for a given area in hectares\n",
    "    def get_estimated_yield(self, area):\n",
    "        return self.yield_per_hectare * area\n",
    "\n",
    "# Class representing a field that can have multiple crops\n",
    "class Field:\n",
    "    def __init__(self, size_in_hectares):\n",
    "        self.size_in_hectares = size_in_hectares\n",
    "        self.crops = []  # List to hold Crop objects\n",
    "\n",
    "    def add_crop(self, crop):\n",
    "        self.crops.append(crop) # Add a crop to the field\n",
    "\n",
    "    # Calculate the total estimated yield from all crops on the field\n",
    "    def get_total_yield(self):\n",
    "        total_yield = 0\n",
    "        for crop in self.crops:\n",
    "            total_yield += crop.get_estimated_yield(self.size_in_hectares) # Sum the yield estimates for each crop based on the field size\n",
    "        return total_yield\n",
    "\n",
    "sugarcane = Crop(\"Sugarcane\", 3.2)     # 3.2 tons per hectare\n",
    "sorghum = Crop(\"Sorghum\", 1.8)     # 1.8 tons per hectare\n",
    "\n",
    "field = Field(5)\n",
    "\n",
    "field.add_crop(sugarcane)\n",
    "field.add_crop(sorghum)\n",
    "\n",
    "\n",
    "print(\"Total estimated yield:\", field.get_total_yield(), \"tons\")"
   ]
  },
  {
   "cell_type": "code",
   "execution_count": 15,
   "id": "fbd1891c-da24-4c27-877d-ced9de624e6e",
   "metadata": {},
   "outputs": [
    {
     "name": "stdout",
     "output_type": "stream",
     "text": [
      "Tractor T 123 SUA has 120 horsepower.\n",
      "No tractor found with plate number T 999 XYZ.\n"
     ]
    }
   ],
   "source": [
    "# Class representing a tractor with plate number and horsepower\n",
    "class Tractor:\n",
    "    def __init__(self, plate_number, horsepower):\n",
    "        self.plate_number = plate_number\n",
    "        self.horsepower = horsepower\n",
    "\n",
    "# Function to get and print horsepower for a given plate number from the dictionary\n",
    "def get_tractor_horsepower(tractors_dict, plate_number):\n",
    "    if plate_number in tractors_dict:\n",
    "        print(f\"Tractor {plate_number} has {tractors_dict[plate_number].horsepower} horsepower.\")\n",
    "    else:\n",
    "        print(f\"No tractor found with plate number {plate_number}.\")\n",
    "\n",
    "\n",
    "def main():\n",
    "    tractors = {\"T 123 SUA\": Tractor(\"T 123 SUA\", 120),\"T 456 BCD\": Tractor(\"T 456 SUA\", 150)} # dictionary of tractors keyed by their plate numbers\n",
    "    get_tractor_horsepower(tractors, \"T 123 SUA\")\n",
    "    get_tractor_horsepower(tractors, \"T 999 XYZ\")\n",
    "main()"
   ]
  },
  {
   "cell_type": "code",
   "execution_count": 17,
   "id": "a25850ad-9a41-45c9-9603-dc3469b338ff",
   "metadata": {},
   "outputs": [
    {
     "name": "stdout",
     "output_type": "stream",
     "text": [
      "Pest report for Maize:\n",
      "- Insect infestation: Chews leaves and stems.\n",
      "- Fungal infection: Causes mold and root rot.\n"
     ]
    }
   ],
   "source": [
    "# Base class representing a general pest\n",
    "class Pest:\n",
    "    def damage_report(self):\n",
    "        return \"Causes general damage to crops.\"\n",
    "\n",
    "# Subclass representing insect pests\n",
    "class InsectPest(Pest):\n",
    "    def damage_report(self):\n",
    "        return \"Insect infestation: Chews leaves and stems.\"\n",
    "\n",
    "# Subclass representing fungal pests\n",
    "class FungalPest(Pest):\n",
    "    def damage_report(self):\n",
    "        return \"Fungal infection: Causes mold and root rot.\"\n",
    "\n",
    "# Class representing a crop that may have multiple pests\n",
    "class Crop:\n",
    "    def __init__(self, name):\n",
    "        self.name = name\n",
    "        self.pests = []   # List to hold pest objects affecting the crop\n",
    "        \n",
    "    def add_pest(self, pest):\n",
    "        self.pests.append(pest)  # Add a pest object (instance of Pest or its subclass) to the crop\n",
    "\n",
    "    def generate_pest_report(self):\n",
    "        print(f\"Pest report for {self.name}:\")\n",
    "        for pest in self.pests:\n",
    "            print(\"- \" + pest.damage_report())\n",
    "insect = InsectPest()\n",
    "fungus = FungalPest()\n",
    "\n",
    "maize = Crop(\"Maize\")\n",
    "maize.add_pest(insect)\n",
    "maize.add_pest(fungus)\n",
    "\n",
    "maize.generate_pest_report()"
   ]
  },
  {
   "cell_type": "code",
   "execution_count": 19,
   "id": "cdede5be-75a3-42b2-a2b5-185120d48177",
   "metadata": {},
   "outputs": [
    {
     "name": "stdout",
     "output_type": "stream",
     "text": [
      "Borehole: Provided 2000 liters of water.\n",
      "Borehole: Only 3000 liters available today.\n",
      "River: Provided 500 liters of water in 20.00 seconds.\n"
     ]
    }
   ],
   "source": [
    "# Import ABC tools for creating abstract base classes\n",
    "from abc import ABC, abstractmethod\n",
    "\n",
    "# Define an abstract base class for any water source\n",
    "class WaterSource(ABC):\n",
    "    @abstractmethod\n",
    "    def get_water(self, liters):\n",
    "        pass\n",
    "\n",
    "\n",
    "class Borehole(WaterSource):\n",
    "    def __init__(self, max_daily_extraction):\n",
    "        self.max_daily_extraction = max_daily_extraction  #Maximum liters extractable per day \n",
    "        self.todays_extraction = 0                        # Track water extracted today\n",
    "\n",
    "    def get_water(self, liters):\n",
    "        available = self.max_daily_extraction - self.todays_extraction\n",
    "        if liters <= available:\n",
    "            self.todays_extraction += liters\n",
    "            return f\"Borehole: Provided {liters} liters of water.\"\n",
    "        else:\n",
    "            return f\"Borehole: Only {available} liters available today.\"\n",
    "\n",
    "\n",
    "class River(WaterSource):\n",
    "    def __init__(self, flow_rate):\n",
    "        self.flow_rate = flow_rate  # liters per second\n",
    "\n",
    "    def get_water(self, liters):\n",
    "        time_needed = liters / self.flow_rate\n",
    "        return f\"River: Provided {liters} liters of water in {time_needed:.2f} seconds.\"\n",
    "\n",
    "\n",
    "def main():\n",
    "    borehole = Borehole(max_daily_extraction=5000)    # Create water source objects\n",
    "    river = River(flow_rate=25)\n",
    "\n",
    "     # Simulate water drawing\n",
    "    print(borehole.get_water(2000))    # Should succeed uses 2000 of 5000\n",
    "    print(borehole.get_water(3500))    # Should be partially limited only 3000 left\n",
    "    print(river.get_water(500))        # Should calculate time based on flow rate\n",
    "\n",
    "main()"
   ]
  },
  {
   "cell_type": "code",
   "execution_count": 23,
   "id": "cde92719-a26d-4a23-89ed-f301745027f1",
   "metadata": {},
   "outputs": [
    {
     "name": "stdout",
     "output_type": "stream",
     "text": [
      "Daily Report for Ilambo Farm\n",
      "Total number of animals: 1\n",
      "Animals:\n",
      " - Cow: Bessie\n",
      "Crops per field:\n",
      " - Field 'Field A' is growing Maize\n"
     ]
    }
   ],
   "source": [
    "# Class representing a farm animal with species and name\n",
    "class FarmAnimal:\n",
    "    def __init__(self, species, name):\n",
    "        self.species = species\n",
    "        self.name = name\n",
    "\n",
    "# Class representing a crop with name and yield per hectare\n",
    "class Crop:\n",
    "    def __init__(self, name, yield_per_hectare):\n",
    "        self.name = name\n",
    "        self.yield_per_hectare = yield_per_hectare\n",
    "\n",
    "# Class representing the whole farm\n",
    "class Farm:\n",
    "    def __init__(self, name):\n",
    "        self.name = name\n",
    "        self.animals = []             # list of FarmAnimal objects\n",
    "        self.fields = {} \n",
    "        \n",
    "    # Add a new animal to the farm\n",
    "    def add_animal(self, animal):\n",
    "        self.animals.append(animal)\n",
    "\n",
    "      # Assign a crop to a specific field\n",
    "    def plant_crop(self, field_name, crop):\n",
    "        self.fields[field_name] = crop\n",
    "\n",
    "    # Generate a daily report of animals and crops\n",
    "    def get_daily_report(self):\n",
    "        print(f\"Daily Report for {self.name} Farm\")\n",
    "        print(f\"Total number of animals: {len(self.animals)}\")\n",
    "        print(\"Animals:\")\n",
    "        for animal in self.animals:\n",
    "            print(f\" - {animal.species}: {animal.name}\")\n",
    "        print(\"Crops per field:\")\n",
    "        for field_name, crop in self.fields.items():\n",
    "            print(f\" - Field '{field_name}' is growing {crop.name}\")\n",
    "\n",
    "# Main function to set up and display a farm's daily report\n",
    "def main():\n",
    "    my_farm = Farm(\"Ilambo\")\n",
    "    my_farm.add_animal(FarmAnimal(\"Cow\", \"Bessie\"))\n",
    "    my_farm.plant_crop(\"Field A\", Crop(\"Maize\", 3.5))\n",
    "    my_farm.get_daily_report()\n",
    "\n",
    "main()  "
   ]
  },
  {
   "cell_type": "code",
   "execution_count": null,
   "id": "6ea93638-e0a3-435b-b676-ffe57f5d656c",
   "metadata": {},
   "outputs": [],
   "source": []
  }
 ],
 "metadata": {
  "kernelspec": {
   "display_name": "Python [conda env:base] *",
   "language": "python",
   "name": "conda-base-py"
  },
  "language_info": {
   "codemirror_mode": {
    "name": "ipython",
    "version": 3
   },
   "file_extension": ".py",
   "mimetype": "text/x-python",
   "name": "python",
   "nbconvert_exporter": "python",
   "pygments_lexer": "ipython3",
   "version": "3.12.7"
  }
 },
 "nbformat": 4,
 "nbformat_minor": 5
}
